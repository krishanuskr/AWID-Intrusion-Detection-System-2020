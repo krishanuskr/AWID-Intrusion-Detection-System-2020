{
  "nbformat": 4,
  "nbformat_minor": 0,
  "metadata": {
    "colab": {
      "name": "AWID Implementation.ipynb",
      "provenance": [],
      "collapsed_sections": []
    },
    "kernelspec": {
      "name": "python3",
      "display_name": "Python 3"
    }
  },
  "cells": [
    {
      "cell_type": "code",
      "metadata": {
        "id": "gsiQkXFW30Pa"
      },
      "source": [
        "import pandas as pd"
      ],
      "execution_count": null,
      "outputs": []
    },
    {
      "cell_type": "code",
      "metadata": {
        "id": "QEzfjDfH36DU"
      },
      "source": [
        "features = ['frame.interface_id',\n",
        " 'frame.dlt',\n",
        " 'frame.offset_shift',\n",
        " 'frame.time_epoch',\n",
        " 'frame.time_delta',\n",
        " 'frame.time_delta_displayed',\n",
        " 'frame.time_relative',\n",
        " 'frame.len',\n",
        " 'frame.cap_len',\n",
        " 'frame.marked',\n",
        " 'frame.ignored',\n",
        " 'radiotap.version',\n",
        " 'radiotap.pad',\n",
        " 'radiotap.length',\n",
        " 'radiotap.present.tsft',\n",
        " 'radiotap.present.flags',\n",
        " 'radiotap.present.rate',\n",
        " 'radiotap.present.channel',\n",
        " 'radiotap.present.fhss',\n",
        " 'radiotap.present.dbm_antsignal',\n",
        " 'radiotap.present.dbm_antnoise',\n",
        " 'radiotap.present.lock_quality',\n",
        " 'radiotap.present.tx_attenuation',\n",
        " 'radiotap.present.db_tx_attenuation',\n",
        " 'radiotap.present.dbm_tx_power',\n",
        " 'radiotap.present.antenna',\n",
        " 'radiotap.present.db_antsignal',\n",
        " 'radiotap.present.db_antnoise',\n",
        " 'radiotap.present.rxflags',\n",
        " 'radiotap.present.xchannel',\n",
        " 'radiotap.present.mcs',\n",
        " 'radiotap.present.ampdu',\n",
        " 'radiotap.present.vht',\n",
        " 'radiotap.present.reserved',\n",
        " 'radiotap.present.rtap_ns',\n",
        " 'radiotap.present.vendor_ns',\n",
        " 'radiotap.present.ext',\n",
        " 'radiotap.mactime',\n",
        " 'radiotap.flags.cfp',\n",
        " 'radiotap.flags.preamble',\n",
        " 'radiotap.flags.wep',\n",
        " 'radiotap.flags.frag',\n",
        " 'radiotap.flags.fcs',\n",
        " 'radiotap.flags.datapad',\n",
        " 'radiotap.flags.badfcs',\n",
        " 'radiotap.flags.shortgi',\n",
        " 'radiotap.datarate',\n",
        " 'radiotap.channel.freq',\n",
        " 'radiotap.channel.type.turbo',\n",
        " 'radiotap.channel.type.cck',\n",
        " 'radiotap.channel.type.ofdm',\n",
        " 'radiotap.channel.type.2ghz',\n",
        " 'radiotap.channel.type.5ghz',\n",
        " 'radiotap.channel.type.passive',\n",
        " 'radiotap.channel.type.dynamic',\n",
        " 'radiotap.channel.type.gfsk',\n",
        " 'radiotap.channel.type.gsm',\n",
        " 'radiotap.channel.type.sturbo',\n",
        " 'radiotap.channel.type.half',\n",
        " 'radiotap.channel.type.quarter',\n",
        " 'radiotap.dbm_antsignal',\n",
        " 'radiotap.antenna',\n",
        " 'radiotap.rxflags.badplcp',\n",
        " 'wlan.fc.type_subtype',\n",
        " 'wlan.fc.version',\n",
        " 'wlan.fc.type',\n",
        " 'wlan.fc.subtype',\n",
        " 'wlan.fc.ds',\n",
        " 'wlan.fc.frag',\n",
        " 'wlan.fc.retry',\n",
        " 'wlan.fc.pwrmgt',\n",
        " 'wlan.fc.moredata',\n",
        " 'wlan.fc.protected',\n",
        " 'wlan.fc.order',\n",
        " 'wlan.duration',\n",
        " 'wlan.ra',\n",
        " 'wlan.da',\n",
        " 'wlan.ta',\n",
        " 'wlan.sa',\n",
        " 'wlan.bssid',\n",
        " 'wlan.frag',\n",
        " 'wlan.seq',\n",
        " 'wlan.bar.type',\n",
        " 'wlan.ba.control.ackpolicy',\n",
        " 'wlan.ba.control.multitid',\n",
        " 'wlan.ba.control.cbitmap',\n",
        " 'wlan.bar.compressed.tidinfo',\n",
        " 'wlan.ba.bm',\n",
        " 'wlan.fcs_good',\n",
        " 'wlan_mgt.fixed.capabilities.ess',\n",
        " 'wlan_mgt.fixed.capabilities.ibss',\n",
        " 'wlan_mgt.fixed.capabilities.cfpoll.ap',\n",
        " 'wlan_mgt.fixed.capabilities.privacy',\n",
        " 'wlan_mgt.fixed.capabilities.preamble',\n",
        " 'wlan_mgt.fixed.capabilities.pbcc',\n",
        " 'wlan_mgt.fixed.capabilities.agility',\n",
        " 'wlan_mgt.fixed.capabilities.spec_man',\n",
        " 'wlan_mgt.fixed.capabilities.short_slot_time',\n",
        " 'wlan_mgt.fixed.capabilities.apsd',\n",
        " 'wlan_mgt.fixed.capabilities.radio_measurement',\n",
        " 'wlan_mgt.fixed.capabilities.dsss_ofdm',\n",
        " 'wlan_mgt.fixed.capabilities.del_blk_ack',\n",
        " 'wlan_mgt.fixed.capabilities.imm_blk_ack',\n",
        " 'wlan_mgt.fixed.listen_ival',\n",
        " 'wlan_mgt.fixed.current_ap',\n",
        " 'wlan_mgt.fixed.status_code',\n",
        " 'wlan_mgt.fixed.timestamp',\n",
        " 'wlan_mgt.fixed.beacon',\n",
        " 'wlan_mgt.fixed.aid',\n",
        " 'wlan_mgt.fixed.reason_code',\n",
        " 'wlan_mgt.fixed.auth.alg',\n",
        " 'wlan_mgt.fixed.auth_seq',\n",
        " 'wlan_mgt.fixed.category_code',\n",
        " 'wlan_mgt.fixed.htact',\n",
        " 'wlan_mgt.fixed.chanwidth',\n",
        " 'wlan_mgt.fixed.fragment',\n",
        " 'wlan_mgt.fixed.sequence',\n",
        " 'wlan_mgt.tagged.all',\n",
        " 'wlan_mgt.ssid',\n",
        " 'wlan_mgt.ds.current_channel',\n",
        " 'wlan_mgt.tim.dtim_count',\n",
        " 'wlan_mgt.tim.dtim_period',\n",
        " 'wlan_mgt.tim.bmapctl.multicast',\n",
        " 'wlan_mgt.tim.bmapctl.offset',\n",
        " 'wlan_mgt.country_info.environment',\n",
        " 'wlan_mgt.rsn.version',\n",
        " 'wlan_mgt.rsn.gcs.type',\n",
        " 'wlan_mgt.rsn.pcs.count',\n",
        " 'wlan_mgt.rsn.akms.count',\n",
        " 'wlan_mgt.rsn.akms.type',\n",
        " 'wlan_mgt.rsn.capabilities.preauth',\n",
        " 'wlan_mgt.rsn.capabilities.no_pairwise',\n",
        " 'wlan_mgt.rsn.capabilities.ptksa_replay_counter',\n",
        " 'wlan_mgt.rsn.capabilities.gtksa_replay_counter',\n",
        " 'wlan_mgt.rsn.capabilities.mfpr',\n",
        " 'wlan_mgt.rsn.capabilities.mfpc',\n",
        " 'wlan_mgt.rsn.capabilities.peerkey',\n",
        " 'wlan_mgt.tcprep.trsmt_pow',\n",
        " 'wlan_mgt.tcprep.link_mrg',\n",
        " 'wlan.wep.iv',\n",
        " 'wlan.wep.key',\n",
        " 'wlan.wep.icv',\n",
        " 'wlan.tkip.extiv',\n",
        " 'wlan.ccmp.extiv',\n",
        " 'wlan.qos.tid',\n",
        " 'wlan.qos.priority',\n",
        " 'wlan.qos.eosp',\n",
        " 'wlan.qos.ack',\n",
        " 'wlan.qos.amsdupresent',\n",
        " 'wlan.qos.buf_state_indicated',\n",
        " 'wlan.qos.bit4',\n",
        " 'wlan.qos.txop_dur_req',\n",
        " 'wlan.qos.buf_state_indicated',\n",
        " 'data.len',\n",
        " 'class']"
      ],
      "execution_count": null,
      "outputs": []
    },
    {
      "cell_type": "code",
      "metadata": {
        "colab": {
          "base_uri": "https://localhost:8080/"
        },
        "id": "gndX0aav3_An",
        "outputId": "e963d9f5-9d21-46be-9a8d-6223d040e58c"
      },
      "source": [
        "from google.colab import drive\n",
        "drive.mount('/content/drive')"
      ],
      "execution_count": null,
      "outputs": [
        {
          "output_type": "stream",
          "text": [
            "Mounted at /content/drive\n"
          ],
          "name": "stdout"
        }
      ]
    },
    {
      "cell_type": "code",
      "metadata": {
        "colab": {
          "base_uri": "https://localhost:8080/"
        },
        "id": "u5RBEnAc4QjL",
        "outputId": "8b247bac-4e81-4b21-e3d1-9a6a4338ca88"
      },
      "source": [
        "awid = pd.read_csv(\"/content/drive/MyDrive/Classroom/AWID-CLS-R-Trn.csv\")"
      ],
      "execution_count": null,
      "outputs": [
        {
          "output_type": "stream",
          "text": [
            "/usr/local/lib/python3.6/dist-packages/IPython/core/interactiveshell.py:2718: DtypeWarning: Columns (37,38,39,40,41,42,43,44,45,47,48,49,50,51,52,53,54,55,56,57,58,59,60,61,62,74,88) have mixed types.Specify dtype option on import or set low_memory=False.\n",
            "  interactivity=interactivity, compiler=compiler, result=result)\n"
          ],
          "name": "stderr"
        }
      ]
    },
    {
      "cell_type": "code",
      "metadata": {
        "id": "bpPB_bEo5PJZ"
      },
      "source": [
        "awid.columns=features"
      ],
      "execution_count": null,
      "outputs": []
    },
    {
      "cell_type": "code",
      "metadata": {
        "colab": {
          "base_uri": "https://localhost:8080/",
          "height": 243
        },
        "id": "hxn5nMqj6Ijs",
        "outputId": "eaa5940c-77de-4a8c-8b83-3c4f1baefdd0"
      },
      "source": [
        "awid.head()"
      ],
      "execution_count": null,
      "outputs": [
        {
          "output_type": "execute_result",
          "data": {
            "text/html": [
              "<div>\n",
              "<style scoped>\n",
              "    .dataframe tbody tr th:only-of-type {\n",
              "        vertical-align: middle;\n",
              "    }\n",
              "\n",
              "    .dataframe tbody tr th {\n",
              "        vertical-align: top;\n",
              "    }\n",
              "\n",
              "    .dataframe thead th {\n",
              "        text-align: right;\n",
              "    }\n",
              "</style>\n",
              "<table border=\"1\" class=\"dataframe\">\n",
              "  <thead>\n",
              "    <tr style=\"text-align: right;\">\n",
              "      <th></th>\n",
              "      <th>frame.interface_id</th>\n",
              "      <th>frame.dlt</th>\n",
              "      <th>frame.offset_shift</th>\n",
              "      <th>frame.time_epoch</th>\n",
              "      <th>frame.time_delta</th>\n",
              "      <th>frame.time_delta_displayed</th>\n",
              "      <th>frame.time_relative</th>\n",
              "      <th>frame.len</th>\n",
              "      <th>frame.cap_len</th>\n",
              "      <th>frame.marked</th>\n",
              "      <th>frame.ignored</th>\n",
              "      <th>radiotap.version</th>\n",
              "      <th>radiotap.pad</th>\n",
              "      <th>radiotap.length</th>\n",
              "      <th>radiotap.present.tsft</th>\n",
              "      <th>radiotap.present.flags</th>\n",
              "      <th>radiotap.present.rate</th>\n",
              "      <th>radiotap.present.channel</th>\n",
              "      <th>radiotap.present.fhss</th>\n",
              "      <th>radiotap.present.dbm_antsignal</th>\n",
              "      <th>radiotap.present.dbm_antnoise</th>\n",
              "      <th>radiotap.present.lock_quality</th>\n",
              "      <th>radiotap.present.tx_attenuation</th>\n",
              "      <th>radiotap.present.db_tx_attenuation</th>\n",
              "      <th>radiotap.present.dbm_tx_power</th>\n",
              "      <th>radiotap.present.antenna</th>\n",
              "      <th>radiotap.present.db_antsignal</th>\n",
              "      <th>radiotap.present.db_antnoise</th>\n",
              "      <th>radiotap.present.rxflags</th>\n",
              "      <th>radiotap.present.xchannel</th>\n",
              "      <th>radiotap.present.mcs</th>\n",
              "      <th>radiotap.present.ampdu</th>\n",
              "      <th>radiotap.present.vht</th>\n",
              "      <th>radiotap.present.reserved</th>\n",
              "      <th>radiotap.present.rtap_ns</th>\n",
              "      <th>radiotap.present.vendor_ns</th>\n",
              "      <th>radiotap.present.ext</th>\n",
              "      <th>radiotap.mactime</th>\n",
              "      <th>radiotap.flags.cfp</th>\n",
              "      <th>radiotap.flags.preamble</th>\n",
              "      <th>...</th>\n",
              "      <th>wlan_mgt.fixed.fragment</th>\n",
              "      <th>wlan_mgt.fixed.sequence</th>\n",
              "      <th>wlan_mgt.tagged.all</th>\n",
              "      <th>wlan_mgt.ssid</th>\n",
              "      <th>wlan_mgt.ds.current_channel</th>\n",
              "      <th>wlan_mgt.tim.dtim_count</th>\n",
              "      <th>wlan_mgt.tim.dtim_period</th>\n",
              "      <th>wlan_mgt.tim.bmapctl.multicast</th>\n",
              "      <th>wlan_mgt.tim.bmapctl.offset</th>\n",
              "      <th>wlan_mgt.country_info.environment</th>\n",
              "      <th>wlan_mgt.rsn.version</th>\n",
              "      <th>wlan_mgt.rsn.gcs.type</th>\n",
              "      <th>wlan_mgt.rsn.pcs.count</th>\n",
              "      <th>wlan_mgt.rsn.akms.count</th>\n",
              "      <th>wlan_mgt.rsn.akms.type</th>\n",
              "      <th>wlan_mgt.rsn.capabilities.preauth</th>\n",
              "      <th>wlan_mgt.rsn.capabilities.no_pairwise</th>\n",
              "      <th>wlan_mgt.rsn.capabilities.ptksa_replay_counter</th>\n",
              "      <th>wlan_mgt.rsn.capabilities.gtksa_replay_counter</th>\n",
              "      <th>wlan_mgt.rsn.capabilities.mfpr</th>\n",
              "      <th>wlan_mgt.rsn.capabilities.mfpc</th>\n",
              "      <th>wlan_mgt.rsn.capabilities.peerkey</th>\n",
              "      <th>wlan_mgt.tcprep.trsmt_pow</th>\n",
              "      <th>wlan_mgt.tcprep.link_mrg</th>\n",
              "      <th>wlan.wep.iv</th>\n",
              "      <th>wlan.wep.key</th>\n",
              "      <th>wlan.wep.icv</th>\n",
              "      <th>wlan.tkip.extiv</th>\n",
              "      <th>wlan.ccmp.extiv</th>\n",
              "      <th>wlan.qos.tid</th>\n",
              "      <th>wlan.qos.priority</th>\n",
              "      <th>wlan.qos.eosp</th>\n",
              "      <th>wlan.qos.ack</th>\n",
              "      <th>wlan.qos.amsdupresent</th>\n",
              "      <th>wlan.qos.buf_state_indicated</th>\n",
              "      <th>wlan.qos.bit4</th>\n",
              "      <th>wlan.qos.txop_dur_req</th>\n",
              "      <th>wlan.qos.buf_state_indicated</th>\n",
              "      <th>data.len</th>\n",
              "      <th>class</th>\n",
              "    </tr>\n",
              "  </thead>\n",
              "  <tbody>\n",
              "    <tr>\n",
              "      <th>0</th>\n",
              "      <td>0</td>\n",
              "      <td>?</td>\n",
              "      <td>0.0</td>\n",
              "      <td>1.393661e+09</td>\n",
              "      <td>0.024271</td>\n",
              "      <td>0.024271</td>\n",
              "      <td>0.024271</td>\n",
              "      <td>185</td>\n",
              "      <td>185</td>\n",
              "      <td>0</td>\n",
              "      <td>0</td>\n",
              "      <td>0</td>\n",
              "      <td>0</td>\n",
              "      <td>26</td>\n",
              "      <td>1</td>\n",
              "      <td>1</td>\n",
              "      <td>1</td>\n",
              "      <td>1</td>\n",
              "      <td>0</td>\n",
              "      <td>1</td>\n",
              "      <td>0</td>\n",
              "      <td>0</td>\n",
              "      <td>0</td>\n",
              "      <td>0</td>\n",
              "      <td>0</td>\n",
              "      <td>1</td>\n",
              "      <td>0</td>\n",
              "      <td>0</td>\n",
              "      <td>1</td>\n",
              "      <td>0</td>\n",
              "      <td>0</td>\n",
              "      <td>0</td>\n",
              "      <td>0</td>\n",
              "      <td>0x00000000</td>\n",
              "      <td>0</td>\n",
              "      <td>0</td>\n",
              "      <td>0</td>\n",
              "      <td>2101623071</td>\n",
              "      <td>0</td>\n",
              "      <td>0</td>\n",
              "      <td>...</td>\n",
              "      <td>?</td>\n",
              "      <td>?</td>\n",
              "      <td>1</td>\n",
              "      <td>CYTA C565</td>\n",
              "      <td>6</td>\n",
              "      <td>0</td>\n",
              "      <td>1</td>\n",
              "      <td>0</td>\n",
              "      <td>0x00</td>\n",
              "      <td>?</td>\n",
              "      <td>1</td>\n",
              "      <td>2</td>\n",
              "      <td>2</td>\n",
              "      <td>1</td>\n",
              "      <td>2</td>\n",
              "      <td>0</td>\n",
              "      <td>0</td>\n",
              "      <td>0x0000</td>\n",
              "      <td>0x0000</td>\n",
              "      <td>0</td>\n",
              "      <td>0</td>\n",
              "      <td>0</td>\n",
              "      <td>?</td>\n",
              "      <td>?</td>\n",
              "      <td>?</td>\n",
              "      <td>?</td>\n",
              "      <td>?</td>\n",
              "      <td>?</td>\n",
              "      <td>?</td>\n",
              "      <td>?</td>\n",
              "      <td>?</td>\n",
              "      <td>?</td>\n",
              "      <td>?</td>\n",
              "      <td>?</td>\n",
              "      <td>?</td>\n",
              "      <td>?</td>\n",
              "      <td>?</td>\n",
              "      <td>?</td>\n",
              "      <td>?</td>\n",
              "      <td>normal</td>\n",
              "    </tr>\n",
              "    <tr>\n",
              "      <th>1</th>\n",
              "      <td>0</td>\n",
              "      <td>?</td>\n",
              "      <td>0.0</td>\n",
              "      <td>1.393661e+09</td>\n",
              "      <td>0.001631</td>\n",
              "      <td>0.001631</td>\n",
              "      <td>0.025902</td>\n",
              "      <td>185</td>\n",
              "      <td>185</td>\n",
              "      <td>0</td>\n",
              "      <td>0</td>\n",
              "      <td>0</td>\n",
              "      <td>0</td>\n",
              "      <td>26</td>\n",
              "      <td>1</td>\n",
              "      <td>1</td>\n",
              "      <td>1</td>\n",
              "      <td>1</td>\n",
              "      <td>0</td>\n",
              "      <td>1</td>\n",
              "      <td>0</td>\n",
              "      <td>0</td>\n",
              "      <td>0</td>\n",
              "      <td>0</td>\n",
              "      <td>0</td>\n",
              "      <td>1</td>\n",
              "      <td>0</td>\n",
              "      <td>0</td>\n",
              "      <td>1</td>\n",
              "      <td>0</td>\n",
              "      <td>0</td>\n",
              "      <td>0</td>\n",
              "      <td>0</td>\n",
              "      <td>0x00000000</td>\n",
              "      <td>0</td>\n",
              "      <td>0</td>\n",
              "      <td>0</td>\n",
              "      <td>2101624680</td>\n",
              "      <td>0</td>\n",
              "      <td>0</td>\n",
              "      <td>...</td>\n",
              "      <td>?</td>\n",
              "      <td>?</td>\n",
              "      <td>1</td>\n",
              "      <td>CYTA 8D28</td>\n",
              "      <td>6</td>\n",
              "      <td>0</td>\n",
              "      <td>1</td>\n",
              "      <td>0</td>\n",
              "      <td>0x00</td>\n",
              "      <td>?</td>\n",
              "      <td>1</td>\n",
              "      <td>2</td>\n",
              "      <td>2</td>\n",
              "      <td>1</td>\n",
              "      <td>2</td>\n",
              "      <td>0</td>\n",
              "      <td>0</td>\n",
              "      <td>0x0000</td>\n",
              "      <td>0x0000</td>\n",
              "      <td>0</td>\n",
              "      <td>0</td>\n",
              "      <td>0</td>\n",
              "      <td>?</td>\n",
              "      <td>?</td>\n",
              "      <td>?</td>\n",
              "      <td>?</td>\n",
              "      <td>?</td>\n",
              "      <td>?</td>\n",
              "      <td>?</td>\n",
              "      <td>?</td>\n",
              "      <td>?</td>\n",
              "      <td>?</td>\n",
              "      <td>?</td>\n",
              "      <td>?</td>\n",
              "      <td>?</td>\n",
              "      <td>?</td>\n",
              "      <td>?</td>\n",
              "      <td>?</td>\n",
              "      <td>?</td>\n",
              "      <td>normal</td>\n",
              "    </tr>\n",
              "    <tr>\n",
              "      <th>2</th>\n",
              "      <td>0</td>\n",
              "      <td>?</td>\n",
              "      <td>0.0</td>\n",
              "      <td>1.393661e+09</td>\n",
              "      <td>0.055325</td>\n",
              "      <td>0.055325</td>\n",
              "      <td>0.081227</td>\n",
              "      <td>159</td>\n",
              "      <td>159</td>\n",
              "      <td>0</td>\n",
              "      <td>0</td>\n",
              "      <td>0</td>\n",
              "      <td>0</td>\n",
              "      <td>26</td>\n",
              "      <td>1</td>\n",
              "      <td>1</td>\n",
              "      <td>1</td>\n",
              "      <td>1</td>\n",
              "      <td>0</td>\n",
              "      <td>1</td>\n",
              "      <td>0</td>\n",
              "      <td>0</td>\n",
              "      <td>0</td>\n",
              "      <td>0</td>\n",
              "      <td>0</td>\n",
              "      <td>1</td>\n",
              "      <td>0</td>\n",
              "      <td>0</td>\n",
              "      <td>1</td>\n",
              "      <td>0</td>\n",
              "      <td>0</td>\n",
              "      <td>0</td>\n",
              "      <td>0</td>\n",
              "      <td>0x00000000</td>\n",
              "      <td>0</td>\n",
              "      <td>0</td>\n",
              "      <td>0</td>\n",
              "      <td>2101680214</td>\n",
              "      <td>0</td>\n",
              "      <td>0</td>\n",
              "      <td>...</td>\n",
              "      <td>?</td>\n",
              "      <td>?</td>\n",
              "      <td>1</td>\n",
              "      <td>OTE29224e</td>\n",
              "      <td>6</td>\n",
              "      <td>0</td>\n",
              "      <td>1</td>\n",
              "      <td>0</td>\n",
              "      <td>0x00</td>\n",
              "      <td>?</td>\n",
              "      <td>1</td>\n",
              "      <td>2</td>\n",
              "      <td>2</td>\n",
              "      <td>1</td>\n",
              "      <td>2</td>\n",
              "      <td>0</td>\n",
              "      <td>0</td>\n",
              "      <td>0x0000</td>\n",
              "      <td>0x0000</td>\n",
              "      <td>0</td>\n",
              "      <td>0</td>\n",
              "      <td>0</td>\n",
              "      <td>?</td>\n",
              "      <td>?</td>\n",
              "      <td>?</td>\n",
              "      <td>?</td>\n",
              "      <td>?</td>\n",
              "      <td>?</td>\n",
              "      <td>?</td>\n",
              "      <td>?</td>\n",
              "      <td>?</td>\n",
              "      <td>?</td>\n",
              "      <td>?</td>\n",
              "      <td>?</td>\n",
              "      <td>?</td>\n",
              "      <td>?</td>\n",
              "      <td>?</td>\n",
              "      <td>?</td>\n",
              "      <td>?</td>\n",
              "      <td>normal</td>\n",
              "    </tr>\n",
              "    <tr>\n",
              "      <th>3</th>\n",
              "      <td>0</td>\n",
              "      <td>?</td>\n",
              "      <td>0.0</td>\n",
              "      <td>1.393661e+09</td>\n",
              "      <td>0.000415</td>\n",
              "      <td>0.000415</td>\n",
              "      <td>0.081642</td>\n",
              "      <td>54</td>\n",
              "      <td>54</td>\n",
              "      <td>0</td>\n",
              "      <td>0</td>\n",
              "      <td>0</td>\n",
              "      <td>0</td>\n",
              "      <td>26</td>\n",
              "      <td>1</td>\n",
              "      <td>1</td>\n",
              "      <td>1</td>\n",
              "      <td>1</td>\n",
              "      <td>0</td>\n",
              "      <td>1</td>\n",
              "      <td>0</td>\n",
              "      <td>0</td>\n",
              "      <td>0</td>\n",
              "      <td>0</td>\n",
              "      <td>0</td>\n",
              "      <td>1</td>\n",
              "      <td>0</td>\n",
              "      <td>0</td>\n",
              "      <td>1</td>\n",
              "      <td>0</td>\n",
              "      <td>0</td>\n",
              "      <td>0</td>\n",
              "      <td>0</td>\n",
              "      <td>0x00000000</td>\n",
              "      <td>0</td>\n",
              "      <td>0</td>\n",
              "      <td>0</td>\n",
              "      <td>2101681730</td>\n",
              "      <td>0</td>\n",
              "      <td>0</td>\n",
              "      <td>...</td>\n",
              "      <td>?</td>\n",
              "      <td>?</td>\n",
              "      <td>?</td>\n",
              "      <td>?</td>\n",
              "      <td>?</td>\n",
              "      <td>?</td>\n",
              "      <td>?</td>\n",
              "      <td>?</td>\n",
              "      <td>?</td>\n",
              "      <td>?</td>\n",
              "      <td>?</td>\n",
              "      <td>?</td>\n",
              "      <td>?</td>\n",
              "      <td>?</td>\n",
              "      <td>?</td>\n",
              "      <td>?</td>\n",
              "      <td>?</td>\n",
              "      <td>?</td>\n",
              "      <td>?</td>\n",
              "      <td>?</td>\n",
              "      <td>?</td>\n",
              "      <td>?</td>\n",
              "      <td>?</td>\n",
              "      <td>?</td>\n",
              "      <td>?</td>\n",
              "      <td>?</td>\n",
              "      <td>?</td>\n",
              "      <td>?</td>\n",
              "      <td>?</td>\n",
              "      <td>?</td>\n",
              "      <td>?</td>\n",
              "      <td>?</td>\n",
              "      <td>?</td>\n",
              "      <td>?</td>\n",
              "      <td>?</td>\n",
              "      <td>?</td>\n",
              "      <td>?</td>\n",
              "      <td>?</td>\n",
              "      <td>?</td>\n",
              "      <td>normal</td>\n",
              "    </tr>\n",
              "    <tr>\n",
              "      <th>4</th>\n",
              "      <td>0</td>\n",
              "      <td>?</td>\n",
              "      <td>0.0</td>\n",
              "      <td>1.393661e+09</td>\n",
              "      <td>0.000005</td>\n",
              "      <td>0.000005</td>\n",
              "      <td>0.081647</td>\n",
              "      <td>40</td>\n",
              "      <td>40</td>\n",
              "      <td>0</td>\n",
              "      <td>0</td>\n",
              "      <td>0</td>\n",
              "      <td>0</td>\n",
              "      <td>26</td>\n",
              "      <td>1</td>\n",
              "      <td>1</td>\n",
              "      <td>1</td>\n",
              "      <td>1</td>\n",
              "      <td>0</td>\n",
              "      <td>1</td>\n",
              "      <td>0</td>\n",
              "      <td>0</td>\n",
              "      <td>0</td>\n",
              "      <td>0</td>\n",
              "      <td>0</td>\n",
              "      <td>1</td>\n",
              "      <td>0</td>\n",
              "      <td>0</td>\n",
              "      <td>1</td>\n",
              "      <td>0</td>\n",
              "      <td>0</td>\n",
              "      <td>0</td>\n",
              "      <td>0</td>\n",
              "      <td>0x00000000</td>\n",
              "      <td>0</td>\n",
              "      <td>0</td>\n",
              "      <td>0</td>\n",
              "      <td>2101681776</td>\n",
              "      <td>0</td>\n",
              "      <td>0</td>\n",
              "      <td>...</td>\n",
              "      <td>?</td>\n",
              "      <td>?</td>\n",
              "      <td>?</td>\n",
              "      <td>?</td>\n",
              "      <td>?</td>\n",
              "      <td>?</td>\n",
              "      <td>?</td>\n",
              "      <td>?</td>\n",
              "      <td>?</td>\n",
              "      <td>?</td>\n",
              "      <td>?</td>\n",
              "      <td>?</td>\n",
              "      <td>?</td>\n",
              "      <td>?</td>\n",
              "      <td>?</td>\n",
              "      <td>?</td>\n",
              "      <td>?</td>\n",
              "      <td>?</td>\n",
              "      <td>?</td>\n",
              "      <td>?</td>\n",
              "      <td>?</td>\n",
              "      <td>?</td>\n",
              "      <td>?</td>\n",
              "      <td>?</td>\n",
              "      <td>?</td>\n",
              "      <td>?</td>\n",
              "      <td>?</td>\n",
              "      <td>?</td>\n",
              "      <td>?</td>\n",
              "      <td>?</td>\n",
              "      <td>?</td>\n",
              "      <td>?</td>\n",
              "      <td>?</td>\n",
              "      <td>?</td>\n",
              "      <td>?</td>\n",
              "      <td>?</td>\n",
              "      <td>?</td>\n",
              "      <td>?</td>\n",
              "      <td>?</td>\n",
              "      <td>normal</td>\n",
              "    </tr>\n",
              "  </tbody>\n",
              "</table>\n",
              "<p>5 rows × 155 columns</p>\n",
              "</div>"
            ],
            "text/plain": [
              "   frame.interface_id frame.dlt  ...  data.len   class\n",
              "0                   0         ?  ...         ?  normal\n",
              "1                   0         ?  ...         ?  normal\n",
              "2                   0         ?  ...         ?  normal\n",
              "3                   0         ?  ...         ?  normal\n",
              "4                   0         ?  ...         ?  normal\n",
              "\n",
              "[5 rows x 155 columns]"
            ]
          },
          "metadata": {
            "tags": []
          },
          "execution_count": 8
        }
      ]
    },
    {
      "cell_type": "code",
      "metadata": {
        "id": "2GC8GowX6LES"
      },
      "source": [
        "awid.replace({\"?\": None}, inplace=True)\n",
        "\n"
      ],
      "execution_count": null,
      "outputs": []
    },
    {
      "cell_type": "code",
      "metadata": {
        "id": "tDYNwn3X6npd"
      },
      "source": [
        "columns_with_mostly_null_data = awid.columns[awid.isnull().mean() >= 0.5]\n",
        "awid.drop(columns_with_mostly_null_data, axis=1, inplace=True)"
      ],
      "execution_count": null,
      "outputs": []
    },
    {
      "cell_type": "code",
      "metadata": {
        "id": "j6-Wzngl7LQk"
      },
      "source": [
        "awid.dropna(inplace=True)"
      ],
      "execution_count": null,
      "outputs": []
    },
    {
      "cell_type": "code",
      "metadata": {
        "colab": {
          "base_uri": "https://localhost:8080/"
        },
        "id": "VLuAM7Cu7d14",
        "outputId": "7dcadeed-cc89-4bc8-d792-e7fc5a261436"
      },
      "source": [
        "awid.select_dtypes(['number']).shape"
      ],
      "execution_count": null,
      "outputs": [
        {
          "output_type": "execute_result",
          "data": {
            "text/plain": [
              "(1339405, 45)"
            ]
          },
          "metadata": {
            "tags": []
          },
          "execution_count": 13
        }
      ]
    },
    {
      "cell_type": "code",
      "metadata": {
        "id": "LySDKPn-7lFB"
      },
      "source": [
        "for col in awid.columns:\n",
        "    awid[col] = pd.to_numeric(awid[col], errors='ignore')"
      ],
      "execution_count": null,
      "outputs": []
    },
    {
      "cell_type": "code",
      "metadata": {
        "colab": {
          "base_uri": "https://localhost:8080/"
        },
        "id": "ztmsoRNV7p3z",
        "outputId": "689a8f8d-b4b0-4814-c40a-5b85621174c2"
      },
      "source": [
        "awid.shape"
      ],
      "execution_count": null,
      "outputs": [
        {
          "output_type": "execute_result",
          "data": {
            "text/plain": [
              "(1339405, 83)"
            ]
          },
          "metadata": {
            "tags": []
          },
          "execution_count": 15
        }
      ]
    },
    {
      "cell_type": "code",
      "metadata": {
        "colab": {
          "base_uri": "https://localhost:8080/"
        },
        "id": "vF3VovJv74yk",
        "outputId": "fb811794-7492-429a-8440-8abd8095bb20"
      },
      "source": [
        "awid.select_dtypes(['number']).shape"
      ],
      "execution_count": null,
      "outputs": [
        {
          "output_type": "execute_result",
          "data": {
            "text/plain": [
              "(1339405, 74)"
            ]
          },
          "metadata": {
            "tags": []
          },
          "execution_count": 16
        }
      ]
    },
    {
      "cell_type": "code",
      "metadata": {
        "colab": {
          "base_uri": "https://localhost:8080/"
        },
        "id": "liOB4wme78n9",
        "outputId": "7524ecd3-b4fd-4de7-ec37-52b8f8456e6f"
      },
      "source": [
        "awid['class'].value_counts(normalize=True)"
      ],
      "execution_count": null,
      "outputs": [
        {
          "output_type": "execute_result",
          "data": {
            "text/plain": [
              "normal           0.878763\n",
              "injection        0.048812\n",
              "impersonation    0.036227\n",
              "flooding         0.036198\n",
              "Name: class, dtype: float64"
            ]
          },
          "metadata": {
            "tags": []
          },
          "execution_count": 17
        }
      ]
    },
    {
      "cell_type": "code",
      "metadata": {
        "id": "nq35zEx18C-q"
      },
      "source": [
        "df=awid"
      ],
      "execution_count": null,
      "outputs": []
    },
    {
      "cell_type": "code",
      "metadata": {
        "id": "hfSgH1qu88LE"
      },
      "source": [
        "df = df.drop(df[df['class'].str.contains(\"normal\")].sample(frac=.7).index)"
      ],
      "execution_count": null,
      "outputs": []
    },
    {
      "cell_type": "code",
      "metadata": {
        "colab": {
          "base_uri": "https://localhost:8080/"
        },
        "id": "4yWsBkeI_8Tq",
        "outputId": "7144b8bf-fcf3-4d49-d272-a1a6e8641bac"
      },
      "source": [
        "df['class'].value_counts(normalize=True)"
      ],
      "execution_count": null,
      "outputs": [
        {
          "output_type": "execute_result",
          "data": {
            "text/plain": [
              "normal           0.409638\n",
              "injection        0.222895\n",
              "impersonation    0.183807\n",
              "flooding         0.183660\n",
              "Name: class, dtype: float64"
            ]
          },
          "metadata": {
            "tags": []
          },
          "execution_count": 72
        }
      ]
    },
    {
      "cell_type": "code",
      "metadata": {
        "id": "VSEpu9Ki_-u6"
      },
      "source": [
        "df = df.drop(df[df['class'].str.contains(\"flooding\")].sample(frac=.2).index)"
      ],
      "execution_count": null,
      "outputs": []
    },
    {
      "cell_type": "code",
      "metadata": {
        "colab": {
          "base_uri": "https://localhost:8080/"
        },
        "id": "UvFoHiUWA_oX",
        "outputId": "658b280a-f20a-45da-d45c-e4d239e7fd27"
      },
      "source": [
        "df.shape"
      ],
      "execution_count": null,
      "outputs": [
        {
          "output_type": "execute_result",
          "data": {
            "text/plain": [
              "(211189, 83)"
            ]
          },
          "metadata": {
            "tags": []
          },
          "execution_count": 71
        }
      ]
    },
    {
      "cell_type": "code",
      "metadata": {
        "id": "cJ3U8tujBBF2"
      },
      "source": [
        "df = df.drop(df[df['class'].str.contains(\"normal\")].sample(frac=.3).index)"
      ],
      "execution_count": null,
      "outputs": []
    },
    {
      "cell_type": "code",
      "metadata": {
        "id": "r51YY_VVLp2K"
      },
      "source": [
        ""
      ],
      "execution_count": null,
      "outputs": []
    },
    {
      "cell_type": "code",
      "metadata": {
        "id": "Xjuc1sEhBISy"
      },
      "source": [
        "df.to_csv('AWID.csv') "
      ],
      "execution_count": null,
      "outputs": []
    },
    {
      "cell_type": "code",
      "metadata": {
        "id": "m0WReeLYCBp_"
      },
      "source": [
        "X, y = df.select_dtypes(['number']), df['class']"
      ],
      "execution_count": null,
      "outputs": []
    },
    {
      "cell_type": "code",
      "metadata": {
        "id": "6q8jjUulDJXY"
      },
      "source": [
        "from sklearn.ensemble import ExtraTreesClassifier\n",
        "from sklearn.feature_selection import SelectFromModel"
      ],
      "execution_count": null,
      "outputs": []
    },
    {
      "cell_type": "code",
      "metadata": {
        "id": "6mvJrb4YDPW4"
      },
      "source": [
        "clf = ExtraTreesClassifier(n_estimators=50)"
      ],
      "execution_count": null,
      "outputs": []
    },
    {
      "cell_type": "code",
      "metadata": {
        "id": "ZZDsImwcDUFg"
      },
      "source": [
        "clf = clf.fit(X, y)"
      ],
      "execution_count": null,
      "outputs": []
    },
    {
      "cell_type": "code",
      "metadata": {
        "id": "T1efYB1FD3qE"
      },
      "source": [
        "model = SelectFromModel(clf, prefit=True)"
      ],
      "execution_count": null,
      "outputs": []
    },
    {
      "cell_type": "code",
      "metadata": {
        "id": "PqQtBQL0D8Sz"
      },
      "source": [
        "X_new = model.transform(X)"
      ],
      "execution_count": null,
      "outputs": []
    },
    {
      "cell_type": "code",
      "metadata": {
        "colab": {
          "base_uri": "https://localhost:8080/"
        },
        "id": "TVq2-1Y_D-PQ",
        "outputId": "a5375861-f8a8-4317-9ef5-1f7471ddd7c1"
      },
      "source": [
        "X_new.shape"
      ],
      "execution_count": null,
      "outputs": [
        {
          "output_type": "execute_result",
          "data": {
            "text/plain": [
              "(211189, 16)"
            ]
          },
          "metadata": {
            "tags": []
          },
          "execution_count": 83
        }
      ]
    }
  ]
}